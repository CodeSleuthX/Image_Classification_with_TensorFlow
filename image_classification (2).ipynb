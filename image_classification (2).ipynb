{
  "cells": [
    {
      "cell_type": "code",
      "execution_count": 11,
      "metadata": {
        "id": "QqRmMvPLDWXQ"
      },
      "outputs": [],
      "source": [
        "# Import necessary libraries\n",
        "import tensorflow as tf\n",
        "from tensorflow import keras\n",
        "from tensorflow.keras import layers\n",
        "from tensorflow.keras.preprocessing.image import ImageDataGenerator\n",
        "from tensorflow.keras.callbacks import LearningRateScheduler\n",
        "from tensorflow.keras.layers import BatchNormalization, Dropout\n",
        "import matplotlib.pyplot as plt"
      ]
    },
    {
      "cell_type": "code",
      "execution_count": 12,
      "metadata": {
        "id": "e-YBnbRss3nF"
      },
      "outputs": [],
      "source": [
        "# Load the CIFAR-10 dataset\n",
        "(x_train, y_train), (x_test, y_test) = keras.datasets.cifar10.load_data()"
      ]
    },
    {
      "cell_type": "code",
      "execution_count": 13,
      "metadata": {
        "id": "SW2nbwzuGFkW"
      },
      "outputs": [],
      "source": [
        "# Data Augmentation\n",
        "datagen = ImageDataGenerator(\n",
        "    rotation_range=15,\n",
        "    width_shift_range=0.1,\n",
        "    height_shift_range=0.1,\n",
        "    horizontal_flip=True,\n",
        ")\n",
        "datagen.fit(x_train)"
      ]
    },
    {
      "cell_type": "code",
      "execution_count": 25,
      "metadata": {
        "id": "wByhBbLUGXhn"
      },
      "outputs": [],
      "source": [
        "# Learning Rate Scheduler\n",
        "def lr_schedule(epoch):\n",
        "    return 0.001 * (0.1 ** int(epoch / 1))\n",
        "\n",
        "lr_callback = LearningRateScheduler(lr_schedule)"
      ]
    },
    {
      "cell_type": "code",
      "source": [
        "# Early Stopping\n",
        "from tensorflow.keras.callbacks import EarlyStopping\n",
        "\n",
        "early_stopping = EarlyStopping(monitor='val_loss', patience=5, restore_best_weights=True)\n",
        "\n",
        "# Compile the model\n",
        "model.compile(\n",
        "    optimizer='adam',\n",
        "    loss=tf.keras.losses.SparseCategoricalCrossentropy(from_logits=True),\n",
        "    metrics=['accuracy']\n",
        ")"
      ],
      "metadata": {
        "id": "A4atzlcC23ao"
      },
      "execution_count": 26,
      "outputs": []
    },
    {
      "cell_type": "code",
      "execution_count": 27,
      "metadata": {
        "id": "vbJSWiJYGdei"
      },
      "outputs": [],
      "source": [
        "# Define the model architecture with Batch Normalization\n",
        "model = keras.Sequential([\n",
        "    layers.Conv2D(32, (3, 3), activation='relu', input_shape=(32, 32, 3)),\n",
        "    layers.BatchNormalization(),\n",
        "    layers.MaxPooling2D((2, 2)),\n",
        "    layers.Conv2D(64, (3, 3), activation='relu'),\n",
        "    layers.BatchNormalization(),\n",
        "    layers.MaxPooling2D((2, 2)),\n",
        "    layers.Conv2D(64, (3, 3), activation='relu'),\n",
        "    layers.BatchNormalization(),\n",
        "    layers.Flatten(),\n",
        "    layers.Dense(64, activation='relu'),\n",
        "    layers.BatchNormalization(),\n",
        "    layers.Dense(10)\n",
        "])"
      ]
    },
    {
      "cell_type": "code",
      "execution_count": 28,
      "metadata": {
        "id": "FO04sEBYGiJ0"
      },
      "outputs": [],
      "source": [
        "# Dropout for Regularization\n",
        "model.add(Dropout(0.25))"
      ]
    },
    {
      "cell_type": "code",
      "execution_count": 29,
      "metadata": {
        "id": "kabFdoW2JdUu"
      },
      "outputs": [],
      "source": [
        "# Compile the model\n",
        "model.compile(\n",
        "    optimizer='adam',\n",
        "    loss=tf.keras.losses.SparseCategoricalCrossentropy(from_logits=True),\n",
        "    metrics=['accuracy']\n",
        ")"
      ]
    },
    {
      "cell_type": "code",
      "execution_count": 30,
      "metadata": {
        "colab": {
          "base_uri": "https://localhost:8080/"
        },
        "id": "nOWLVppCJgM9",
        "outputId": "ca208406-b896-45cb-cdc6-71ce3f08ac99"
      },
      "outputs": [
        {
          "output_type": "stream",
          "name": "stdout",
          "text": [
            "Epoch 1/5\n",
            "5000/5000 [==============================] - 144s 28ms/step - loss: 1.8241 - accuracy: 0.1111 - val_loss: 1.4789 - val_accuracy: 0.0981 - lr: 0.0010\n",
            "Epoch 2/5\n",
            "5000/5000 [==============================] - 140s 28ms/step - loss: 1.5300 - accuracy: 0.1135 - val_loss: 1.1448 - val_accuracy: 0.0919 - lr: 1.0000e-04\n",
            "Epoch 3/5\n",
            "5000/5000 [==============================] - 142s 28ms/step - loss: 1.4796 - accuracy: 0.1146 - val_loss: 1.0955 - val_accuracy: 0.1059 - lr: 1.0000e-05\n",
            "Epoch 4/5\n",
            "5000/5000 [==============================] - 143s 29ms/step - loss: 1.4734 - accuracy: 0.1158 - val_loss: 1.0902 - val_accuracy: 0.1040 - lr: 1.0000e-06\n",
            "Epoch 5/5\n",
            "5000/5000 [==============================] - 144s 29ms/step - loss: 1.4765 - accuracy: 0.1148 - val_loss: 1.0902 - val_accuracy: 0.1048 - lr: 1.0000e-07\n"
          ]
        }
      ],
      "source": [
        "# Train the model with Data Augmentation and Learning Rate Scheduler\n",
        "history = model.fit(\n",
        "    datagen.flow(x_train, y_train, batch_size=10),\n",
        "    epochs=5,\n",
        "    validation_data=(x_test, y_test),\n",
        "    callbacks=[lr_callback]\n",
        ")"
      ]
    },
    {
      "cell_type": "code",
      "execution_count": 31,
      "metadata": {
        "id": "NDd91MIOth-_",
        "colab": {
          "base_uri": "https://localhost:8080/"
        },
        "outputId": "7091b929-80fd-4c62-c6b9-c643a0db495e"
      },
      "outputs": [
        {
          "output_type": "stream",
          "name": "stdout",
          "text": [
            "313/313 - 4s - loss: 1.0902 - accuracy: 0.1048 - 4s/epoch - 13ms/step\n",
            "Test accuracy: 0.10480000078678131\n"
          ]
        }
      ],
      "source": [
        "# Evaluate the model\n",
        "test_loss, test_acc = model.evaluate(x_test, y_test, verbose=2)\n",
        "print(f'Test accuracy: {test_acc}')"
      ]
    },
    {
      "cell_type": "code",
      "execution_count": 32,
      "metadata": {
        "id": "EfPZp1fCtjUy",
        "colab": {
          "base_uri": "https://localhost:8080/"
        },
        "outputId": "e00e7d35-1f47-4be8-b6c5-1c9c1a9a3ff6"
      },
      "outputs": [
        {
          "output_type": "stream",
          "name": "stderr",
          "text": [
            "/usr/local/lib/python3.10/dist-packages/keras/src/engine/training.py:3103: UserWarning: You are saving your model as an HDF5 file via `model.save()`. This file format is considered legacy. We recommend using instead the native Keras format, e.g. `model.save('my_model.keras')`.\n",
            "  saving_api.save_model(\n"
          ]
        }
      ],
      "source": [
        "# Save the model\n",
        "model.save(\"cifar10_image_classifier.h5\")"
      ]
    },
    {
      "cell_type": "code",
      "execution_count": 33,
      "metadata": {
        "id": "oKF2Uqqjtk_8",
        "colab": {
          "base_uri": "https://localhost:8080/",
          "height": 449
        },
        "outputId": "1de8ebea-1860-401f-feb8-f3cca90efff4"
      },
      "outputs": [
        {
          "output_type": "display_data",
          "data": {
            "text/plain": [
              "<Figure size 640x480 with 1 Axes>"
            ],
            "image/png": "[encoded data removed]"
          },
          "metadata": {}
        }
      ],
      "source": [
        "# Plot training history\n",
        "plt.plot(history.history['accuracy'], label='accuracy')\n",
        "plt.plot(history.history['val_accuracy'], label='val_accuracy')\n",
        "plt.xlabel('Epoch')\n",
        "plt.ylabel('Accuracy')\n",
        "plt.legend(loc='lower right')\n",
        "plt.show()"
      ]
    }
  ],
  "metadata": {
    "colab": {
      "provenance": []
    },
    "kernelspec": {
      "display_name": "Python 3",
      "name": "python3"
    },
    "language_info": {
      "name": "python"
    }
  },
  "nbformat": 4,
  "nbformat_minor": 0
}